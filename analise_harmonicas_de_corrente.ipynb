{
 "cells": [
  {
   "cell_type": "markdown",
   "id": "f1302658",
   "metadata": {},
   "source": [
    "# Importando bibliotecas"
   ]
  },
  {
   "cell_type": "markdown",
   "id": "33aa5faa",
   "metadata": {},
   "source": [
    "import pandas as pd \n",
    "import numpy as np\n",
    "import os\n",
    "import matplotlib.pyplot as plt\n"
   ]
  },
  {
   "cell_type": "markdown",
   "id": "37abf7cf",
   "metadata": {},
   "source": [
    "Peguei cada arquivo exportado pelo analisador de energia e concatenei os dados deles em um único dataframe"
   ]
  },
  {
   "cell_type": "code",
   "execution_count": null,
   "id": "dfb7e4a8",
   "metadata": {},
   "outputs": [],
   "source": [
    "# diretorio_origem = \"C:\\\\Users\\\\gusta\\\\OneDrive\\\\Documentos\\\\PROJETTA ENG\\\\Patio Brasil\\\\medicoes-harmonicas-editados\"\n",
    "# arquivos = os.listdir(diretorio_origem)\n",
    "# caminho_completo_arquivos = []\n",
    "\n",
    "# for arquivo in arquivos:\n",
    "#     caminho_completo = os.path.join(diretorio_origem, arquivo)\n",
    "#     caminho_completo_arquivos.append(caminho_completo)\n",
    "    \n",
    "# # DataFrame inicial\n",
    "# df = pd.read_csv(caminho_completo_arquivos[0], delim_whitespace=True)\n",
    "# print(df.shape)\n",
    "# df.head()\n",
    "# for arquivo in caminho_completo_arquivos[1:] :\n",
    "#     df_temp = pd.read_csv(arquivo, delim_whitespace=True)\n",
    "#     df = pd.concat([df, df_temp], ignore_index=True)\n",
    "\n",
    "# df.shape"
   ]
  },
  {
   "cell_type": "markdown",
   "id": "cc03d4fd",
   "metadata": {},
   "source": [
    "Como o arquivo tinha armazenado os valores numéricos como string fiz a conversão para float64"
   ]
  },
  {
   "cell_type": "code",
   "execution_count": 51,
   "id": "88bde092",
   "metadata": {},
   "outputs": [],
   "source": [
    "# def converter_virgula_para_ponto(valor):\n",
    "#     return float(valor.replace(',', '.'))\n",
    "\n",
    "\n",
    "# for i in range(3,18,2):\n",
    "#     #df[f\"{i}\"] = df[f\"{i}\"].str.replace(',', '.')\n",
    "#     df[f\"{i}\"] = df[f\"{i}\"].apply(converter_virgula_para_ponto)"
   ]
  },
  {
   "cell_type": "markdown",
   "id": "0a95369f",
   "metadata": {},
   "source": [
    "Salvei as informações compiladas em um único arquivo"
   ]
  },
  {
   "cell_type": "code",
   "execution_count": 53,
   "id": "84d7f8a0",
   "metadata": {},
   "outputs": [],
   "source": [
    "# para salvar o dataframe em um arquivo csv\n",
    "#df.to_csv(\"C:\\\\Users\\\\gusta\\\\OneDrive\\\\Documentos\\\\PROJETTA ENG\\\\Patio Brasil\\\\dataframe_final.csv\")"
   ]
  },
  {
   "cell_type": "markdown",
   "id": "1940afe2",
   "metadata": {},
   "source": [
    "Agora toda vez que quiser fazer uma análise não precisa mais concatenar os arquivos, basta ler um único csv"
   ]
  },
  {
   "cell_type": "code",
   "execution_count": 69,
   "id": "64e3356d",
   "metadata": {},
   "outputs": [
    {
     "data": {
      "text/plain": [
       "Registro     object\n",
       "Dado         object\n",
       "3           float64\n",
       "5           float64\n",
       "7           float64\n",
       "9           float64\n",
       "11          float64\n",
       "13          float64\n",
       "15          float64\n",
       "17          float64\n",
       "dtype: object"
      ]
     },
     "execution_count": 69,
     "metadata": {},
     "output_type": "execute_result"
    }
   ],
   "source": [
    "# ao começar o range com 1, ignoro a coluna 0 que armazena indices..\n",
    "df = pd.read_csv(caminho_arquivo, usecols=list(range(1, len(df.columns))))"
   ]
  },
  {
   "cell_type": "markdown",
   "id": "065d4d72",
   "metadata": {},
   "source": [
    "# Visualizando o dataframe"
   ]
  },
  {
   "cell_type": "code",
   "execution_count": 154,
   "id": "3634bcb6",
   "metadata": {},
   "outputs": [
    {
     "data": {
      "text/html": [
       "<div>\n",
       "<style scoped>\n",
       "    .dataframe tbody tr th:only-of-type {\n",
       "        vertical-align: middle;\n",
       "    }\n",
       "\n",
       "    .dataframe tbody tr th {\n",
       "        vertical-align: top;\n",
       "    }\n",
       "\n",
       "    .dataframe thead th {\n",
       "        text-align: right;\n",
       "    }\n",
       "</style>\n",
       "<table border=\"1\" class=\"dataframe\">\n",
       "  <thead>\n",
       "    <tr style=\"text-align: right;\">\n",
       "      <th></th>\n",
       "      <th>Registro</th>\n",
       "      <th>Dado</th>\n",
       "      <th>3</th>\n",
       "      <th>5</th>\n",
       "      <th>7</th>\n",
       "      <th>9</th>\n",
       "      <th>11</th>\n",
       "      <th>13</th>\n",
       "      <th>15</th>\n",
       "      <th>17</th>\n",
       "      <th>relacao3por5</th>\n",
       "      <th>relacao5por3</th>\n",
       "    </tr>\n",
       "  </thead>\n",
       "  <tbody>\n",
       "    <tr>\n",
       "      <th>0</th>\n",
       "      <td>IA</td>\n",
       "      <td>(%)</td>\n",
       "      <td>2.87</td>\n",
       "      <td>4.55</td>\n",
       "      <td>0.24</td>\n",
       "      <td>0.24</td>\n",
       "      <td>2.39</td>\n",
       "      <td>2.63</td>\n",
       "      <td>0.48</td>\n",
       "      <td>0.96</td>\n",
       "      <td>0.630769</td>\n",
       "      <td>1.585366</td>\n",
       "    </tr>\n",
       "    <tr>\n",
       "      <th>1</th>\n",
       "      <td>IB</td>\n",
       "      <td>(%)</td>\n",
       "      <td>21.55</td>\n",
       "      <td>5.60</td>\n",
       "      <td>2.59</td>\n",
       "      <td>0.00</td>\n",
       "      <td>9.48</td>\n",
       "      <td>6.03</td>\n",
       "      <td>2.16</td>\n",
       "      <td>3.88</td>\n",
       "      <td>3.848214</td>\n",
       "      <td>0.259861</td>\n",
       "    </tr>\n",
       "    <tr>\n",
       "      <th>2</th>\n",
       "      <td>IC</td>\n",
       "      <td>(%)</td>\n",
       "      <td>54.89</td>\n",
       "      <td>17.29</td>\n",
       "      <td>0.00</td>\n",
       "      <td>0.75</td>\n",
       "      <td>9.02</td>\n",
       "      <td>12.03</td>\n",
       "      <td>4.51</td>\n",
       "      <td>3.01</td>\n",
       "      <td>3.174667</td>\n",
       "      <td>0.314994</td>\n",
       "    </tr>\n",
       "    <tr>\n",
       "      <th>3</th>\n",
       "      <td>IA</td>\n",
       "      <td>(%)</td>\n",
       "      <td>2.63</td>\n",
       "      <td>4.55</td>\n",
       "      <td>6.70</td>\n",
       "      <td>1.67</td>\n",
       "      <td>2.39</td>\n",
       "      <td>2.87</td>\n",
       "      <td>0.48</td>\n",
       "      <td>0.96</td>\n",
       "      <td>0.578022</td>\n",
       "      <td>1.730038</td>\n",
       "    </tr>\n",
       "    <tr>\n",
       "      <th>4</th>\n",
       "      <td>IB</td>\n",
       "      <td>(%)</td>\n",
       "      <td>0.44</td>\n",
       "      <td>6.22</td>\n",
       "      <td>4.00</td>\n",
       "      <td>0.44</td>\n",
       "      <td>11.11</td>\n",
       "      <td>7.11</td>\n",
       "      <td>0.44</td>\n",
       "      <td>0.44</td>\n",
       "      <td>0.070740</td>\n",
       "      <td>14.136364</td>\n",
       "    </tr>\n",
       "    <tr>\n",
       "      <th>...</th>\n",
       "      <td>...</td>\n",
       "      <td>...</td>\n",
       "      <td>...</td>\n",
       "      <td>...</td>\n",
       "      <td>...</td>\n",
       "      <td>...</td>\n",
       "      <td>...</td>\n",
       "      <td>...</td>\n",
       "      <td>...</td>\n",
       "      <td>...</td>\n",
       "      <td>...</td>\n",
       "      <td>...</td>\n",
       "    </tr>\n",
       "    <tr>\n",
       "      <th>44778</th>\n",
       "      <td>IA</td>\n",
       "      <td>(%)</td>\n",
       "      <td>0.00</td>\n",
       "      <td>0.00</td>\n",
       "      <td>0.00</td>\n",
       "      <td>0.00</td>\n",
       "      <td>3.45</td>\n",
       "      <td>0.00</td>\n",
       "      <td>0.69</td>\n",
       "      <td>1.38</td>\n",
       "      <td>NaN</td>\n",
       "      <td>NaN</td>\n",
       "    </tr>\n",
       "    <tr>\n",
       "      <th>44829</th>\n",
       "      <td>IA</td>\n",
       "      <td>(%)</td>\n",
       "      <td>9.03</td>\n",
       "      <td>5.56</td>\n",
       "      <td>2.08</td>\n",
       "      <td>0.00</td>\n",
       "      <td>1.39</td>\n",
       "      <td>0.00</td>\n",
       "      <td>0.00</td>\n",
       "      <td>0.00</td>\n",
       "      <td>1.624101</td>\n",
       "      <td>0.615725</td>\n",
       "    </tr>\n",
       "    <tr>\n",
       "      <th>44880</th>\n",
       "      <td>IA</td>\n",
       "      <td>(%)</td>\n",
       "      <td>9.59</td>\n",
       "      <td>5.48</td>\n",
       "      <td>0.68</td>\n",
       "      <td>1.37</td>\n",
       "      <td>0.68</td>\n",
       "      <td>1.37</td>\n",
       "      <td>0.00</td>\n",
       "      <td>0.68</td>\n",
       "      <td>1.750000</td>\n",
       "      <td>0.571429</td>\n",
       "    </tr>\n",
       "    <tr>\n",
       "      <th>44934</th>\n",
       "      <td>IA</td>\n",
       "      <td>(%)</td>\n",
       "      <td>0.00</td>\n",
       "      <td>0.00</td>\n",
       "      <td>1.46</td>\n",
       "      <td>0.73</td>\n",
       "      <td>0.73</td>\n",
       "      <td>0.73</td>\n",
       "      <td>0.73</td>\n",
       "      <td>0.73</td>\n",
       "      <td>NaN</td>\n",
       "      <td>NaN</td>\n",
       "    </tr>\n",
       "    <tr>\n",
       "      <th>44982</th>\n",
       "      <td>IA</td>\n",
       "      <td>(%)</td>\n",
       "      <td>0.00</td>\n",
       "      <td>6.67</td>\n",
       "      <td>0.67</td>\n",
       "      <td>0.00</td>\n",
       "      <td>0.67</td>\n",
       "      <td>0.00</td>\n",
       "      <td>0.00</td>\n",
       "      <td>1.33</td>\n",
       "      <td>0.000000</td>\n",
       "      <td>inf</td>\n",
       "    </tr>\n",
       "  </tbody>\n",
       "</table>\n",
       "<p>16441 rows × 12 columns</p>\n",
       "</div>"
      ],
      "text/plain": [
       "      Registro Dado      3      5     7     9     11     13    15    17  \\\n",
       "0           IA  (%)   2.87   4.55  0.24  0.24   2.39   2.63  0.48  0.96   \n",
       "1           IB  (%)  21.55   5.60  2.59  0.00   9.48   6.03  2.16  3.88   \n",
       "2           IC  (%)  54.89  17.29  0.00  0.75   9.02  12.03  4.51  3.01   \n",
       "3           IA  (%)   2.63   4.55  6.70  1.67   2.39   2.87  0.48  0.96   \n",
       "4           IB  (%)   0.44   6.22  4.00  0.44  11.11   7.11  0.44  0.44   \n",
       "...        ...  ...    ...    ...   ...   ...    ...    ...   ...   ...   \n",
       "44778       IA  (%)   0.00   0.00  0.00  0.00   3.45   0.00  0.69  1.38   \n",
       "44829       IA  (%)   9.03   5.56  2.08  0.00   1.39   0.00  0.00  0.00   \n",
       "44880       IA  (%)   9.59   5.48  0.68  1.37   0.68   1.37  0.00  0.68   \n",
       "44934       IA  (%)   0.00   0.00  1.46  0.73   0.73   0.73  0.73  0.73   \n",
       "44982       IA  (%)   0.00   6.67  0.67  0.00   0.67   0.00  0.00  1.33   \n",
       "\n",
       "       relacao3por5  relacao5por3  \n",
       "0          0.630769      1.585366  \n",
       "1          3.848214      0.259861  \n",
       "2          3.174667      0.314994  \n",
       "3          0.578022      1.730038  \n",
       "4          0.070740     14.136364  \n",
       "...             ...           ...  \n",
       "44778           NaN           NaN  \n",
       "44829      1.624101      0.615725  \n",
       "44880      1.750000      0.571429  \n",
       "44934           NaN           NaN  \n",
       "44982      0.000000           inf  \n",
       "\n",
       "[16441 rows x 12 columns]"
      ]
     },
     "metadata": {},
     "output_type": "display_data"
    }
   ],
   "source": [
    "display(df)\n",
    "#df.dtypes\n",
    "#df.describe()"
   ]
  },
  {
   "cell_type": "code",
   "execution_count": 87,
   "id": "38a7c77b",
   "metadata": {},
   "outputs": [],
   "source": [
    "colunas_numericas = list(df.columns[2:])\n",
    "\n",
    "def todos_iguais_a_zero(linha):\n",
    "    for coluna in colunas_numericas:\n",
    "        if not isinstance(linha[coluna], float) or linha[coluna] != 0:\n",
    "            return False\n",
    "    return True\n",
    "\n",
    "df = df.loc[~df.apply(todos_iguais_a_zero, axis=1)]\n"
   ]
  },
  {
   "cell_type": "code",
   "execution_count": 153,
   "id": "173838f2",
   "metadata": {},
   "outputs": [],
   "source": [
    "#df[df[\"5\"] > 10]\n",
    "#df.groupby(\"Registro\")[[\"3\",\"5\"]].median()\n",
    "#(df[\"3\"] > 20) & (df[\"5\"] > 10)\n",
    "#df.query(\"`3` > 20 or `5` > 10\")\n",
    "#df['3'].mean()\n",
    "#df['3'].median()\n",
    "#df['3'].quantile([0.01, 0.05, 0.5, 0.95, 0.99])"
   ]
  },
  {
   "cell_type": "markdown",
   "id": "3c2eee92",
   "metadata": {},
   "source": [
    "Agrupando as informações para cada uma das fases ('A', 'B', 'C')"
   ]
  },
  {
   "cell_type": "code",
   "execution_count": 114,
   "id": "88bfca94",
   "metadata": {},
   "outputs": [
    {
     "data": {
      "text/html": [
       "<div>\n",
       "<style scoped>\n",
       "    .dataframe tbody tr th:only-of-type {\n",
       "        vertical-align: middle;\n",
       "    }\n",
       "\n",
       "    .dataframe tbody tr th {\n",
       "        vertical-align: top;\n",
       "    }\n",
       "\n",
       "    .dataframe thead tr th {\n",
       "        text-align: left;\n",
       "    }\n",
       "\n",
       "    .dataframe thead tr:last-of-type th {\n",
       "        text-align: right;\n",
       "    }\n",
       "</style>\n",
       "<table border=\"1\" class=\"dataframe\">\n",
       "  <thead>\n",
       "    <tr>\n",
       "      <th></th>\n",
       "      <th colspan=\"8\" halign=\"left\">3</th>\n",
       "      <th colspan=\"2\" halign=\"left\">5</th>\n",
       "      <th>...</th>\n",
       "      <th colspan=\"2\" halign=\"left\">15</th>\n",
       "      <th colspan=\"8\" halign=\"left\">17</th>\n",
       "    </tr>\n",
       "    <tr>\n",
       "      <th></th>\n",
       "      <th>count</th>\n",
       "      <th>mean</th>\n",
       "      <th>std</th>\n",
       "      <th>min</th>\n",
       "      <th>25%</th>\n",
       "      <th>50%</th>\n",
       "      <th>75%</th>\n",
       "      <th>max</th>\n",
       "      <th>count</th>\n",
       "      <th>mean</th>\n",
       "      <th>...</th>\n",
       "      <th>75%</th>\n",
       "      <th>max</th>\n",
       "      <th>count</th>\n",
       "      <th>mean</th>\n",
       "      <th>std</th>\n",
       "      <th>min</th>\n",
       "      <th>25%</th>\n",
       "      <th>50%</th>\n",
       "      <th>75%</th>\n",
       "      <th>max</th>\n",
       "    </tr>\n",
       "    <tr>\n",
       "      <th>Registro</th>\n",
       "      <th></th>\n",
       "      <th></th>\n",
       "      <th></th>\n",
       "      <th></th>\n",
       "      <th></th>\n",
       "      <th></th>\n",
       "      <th></th>\n",
       "      <th></th>\n",
       "      <th></th>\n",
       "      <th></th>\n",
       "      <th></th>\n",
       "      <th></th>\n",
       "      <th></th>\n",
       "      <th></th>\n",
       "      <th></th>\n",
       "      <th></th>\n",
       "      <th></th>\n",
       "      <th></th>\n",
       "      <th></th>\n",
       "      <th></th>\n",
       "      <th></th>\n",
       "    </tr>\n",
       "  </thead>\n",
       "  <tbody>\n",
       "    <tr>\n",
       "      <th>IA</th>\n",
       "      <td>5135.0</td>\n",
       "      <td>4.073472</td>\n",
       "      <td>3.871307</td>\n",
       "      <td>0.0</td>\n",
       "      <td>1.210</td>\n",
       "      <td>2.88</td>\n",
       "      <td>6.110</td>\n",
       "      <td>59.89</td>\n",
       "      <td>5135.0</td>\n",
       "      <td>4.682886</td>\n",
       "      <td>...</td>\n",
       "      <td>0.82</td>\n",
       "      <td>4.59</td>\n",
       "      <td>5135.0</td>\n",
       "      <td>0.879330</td>\n",
       "      <td>0.768143</td>\n",
       "      <td>0.0</td>\n",
       "      <td>0.44</td>\n",
       "      <td>0.69</td>\n",
       "      <td>1.13</td>\n",
       "      <td>6.54</td>\n",
       "    </tr>\n",
       "    <tr>\n",
       "      <th>IB</th>\n",
       "      <td>5663.0</td>\n",
       "      <td>8.085557</td>\n",
       "      <td>8.288720</td>\n",
       "      <td>0.0</td>\n",
       "      <td>1.305</td>\n",
       "      <td>4.84</td>\n",
       "      <td>13.830</td>\n",
       "      <td>45.33</td>\n",
       "      <td>5663.0</td>\n",
       "      <td>6.584279</td>\n",
       "      <td>...</td>\n",
       "      <td>1.29</td>\n",
       "      <td>6.92</td>\n",
       "      <td>5663.0</td>\n",
       "      <td>1.232548</td>\n",
       "      <td>1.045947</td>\n",
       "      <td>0.0</td>\n",
       "      <td>0.61</td>\n",
       "      <td>0.91</td>\n",
       "      <td>1.54</td>\n",
       "      <td>8.91</td>\n",
       "    </tr>\n",
       "    <tr>\n",
       "      <th>IC</th>\n",
       "      <td>5643.0</td>\n",
       "      <td>24.553936</td>\n",
       "      <td>19.652419</td>\n",
       "      <td>0.0</td>\n",
       "      <td>9.010</td>\n",
       "      <td>21.55</td>\n",
       "      <td>37.795</td>\n",
       "      <td>106.73</td>\n",
       "      <td>5643.0</td>\n",
       "      <td>10.785350</td>\n",
       "      <td>...</td>\n",
       "      <td>1.80</td>\n",
       "      <td>10.68</td>\n",
       "      <td>5643.0</td>\n",
       "      <td>1.401379</td>\n",
       "      <td>1.135640</td>\n",
       "      <td>0.0</td>\n",
       "      <td>0.63</td>\n",
       "      <td>1.07</td>\n",
       "      <td>1.82</td>\n",
       "      <td>9.26</td>\n",
       "    </tr>\n",
       "  </tbody>\n",
       "</table>\n",
       "<p>3 rows × 64 columns</p>\n",
       "</div>"
      ],
      "text/plain": [
       "               3                                                           \\\n",
       "           count       mean        std  min    25%    50%     75%     max   \n",
       "Registro                                                                    \n",
       "IA        5135.0   4.073472   3.871307  0.0  1.210   2.88   6.110   59.89   \n",
       "IB        5663.0   8.085557   8.288720  0.0  1.305   4.84  13.830   45.33   \n",
       "IC        5643.0  24.553936  19.652419  0.0  9.010  21.55  37.795  106.73   \n",
       "\n",
       "               5             ...    15             17                      \\\n",
       "           count       mean  ...   75%    max   count      mean       std   \n",
       "Registro                     ...                                            \n",
       "IA        5135.0   4.682886  ...  0.82   4.59  5135.0  0.879330  0.768143   \n",
       "IB        5663.0   6.584279  ...  1.29   6.92  5663.0  1.232548  1.045947   \n",
       "IC        5643.0  10.785350  ...  1.80  10.68  5643.0  1.401379  1.135640   \n",
       "\n",
       "                                       \n",
       "          min   25%   50%   75%   max  \n",
       "Registro                               \n",
       "IA        0.0  0.44  0.69  1.13  6.54  \n",
       "IB        0.0  0.61  0.91  1.54  8.91  \n",
       "IC        0.0  0.63  1.07  1.82  9.26  \n",
       "\n",
       "[3 rows x 64 columns]"
      ]
     },
     "execution_count": 114,
     "metadata": {},
     "output_type": "execute_result"
    }
   ],
   "source": [
    "\n",
    "df.groupby('Registro').describe()"
   ]
  },
  {
   "cell_type": "markdown",
   "id": "9fc44415",
   "metadata": {},
   "source": [
    "Criando duas colunas adicionais, fazendo a razão entre as harmônicas de ordem 3 e 5"
   ]
  },
  {
   "cell_type": "code",
   "execution_count": 138,
   "id": "c241530d",
   "metadata": {},
   "outputs": [
    {
     "data": {
      "text/plain": [
       "0         1.585366\n",
       "1         0.259861\n",
       "2         0.314994\n",
       "3         1.730038\n",
       "4        14.136364\n",
       "           ...    \n",
       "44778          NaN\n",
       "44829     0.615725\n",
       "44880     0.571429\n",
       "44934          NaN\n",
       "44982          inf\n",
       "Name: relacao5por3, Length: 16441, dtype: float64"
      ]
     },
     "execution_count": 138,
     "metadata": {},
     "output_type": "execute_result"
    }
   ],
   "source": [
    "df = df.assign(relacao3por5 = lambda x : x[\"3\"]/x[\"5\"])\n",
    "df[\"relacao3por5\"]\n",
    "df = df.assign(relacao5por3 = lambda x : x[\"5\"]/x[\"3\"])\n",
    "df[\"relacao5por3\"]"
   ]
  },
  {
   "cell_type": "markdown",
   "id": "cfc7efbe",
   "metadata": {},
   "source": [
    "# Transformando informações em gráficos"
   ]
  },
  {
   "cell_type": "markdown",
   "id": "e23b296b",
   "metadata": {},
   "source": [
    "Definindo cores da plotagem"
   ]
  },
  {
   "cell_type": "code",
   "execution_count": 127,
   "id": "9492e8a5",
   "metadata": {},
   "outputs": [],
   "source": [
    "cores = {\n",
    "    \"IA\": \"red\",\n",
    "    \"IB\": \"blue\",\n",
    "    \"IC\": \"green\",\n",
    "}"
   ]
  },
  {
   "cell_type": "markdown",
   "id": "f49f9db0",
   "metadata": {},
   "source": [
    "Histogramas mostrando as relações entre harmônicas de corrente de 3ª e 5º ordem para cada uma das correntes"
   ]
  },
  {
   "cell_type": "code",
   "execution_count": 140,
   "id": "dda93edf",
   "metadata": {},
   "outputs": [
    {
     "data": {
      "image/png": "[encoded data removed]",
      "text/plain": [
       "<Figure size 432x288 with 1 Axes>"
      ]
     },
     "metadata": {
      "needs_background": "light"
     },
     "output_type": "display_data"
    },
    {
     "data": {
      "image/png": "[encoded data removed]",
      "text/plain": [
       "<Figure size 432x288 with 1 Axes>"
      ]
     },
     "metadata": {
      "needs_background": "light"
     },
     "output_type": "display_data"
    },
    {
     "data": {
      "image/png": "[encoded data removed]",
      "text/plain": [
       "<Figure size 432x288 with 1 Axes>"
      ]
     },
     "metadata": {
      "needs_background": "light"
     },
     "output_type": "display_data"
    }
   ],
   "source": [
    "\n",
    "for registro in df[\"Registro\"].unique():\n",
    "    # Filter and create an explicit copy of the DataFrame\n",
    "    df_filtrado = df.loc[df[\"Registro\"] == registro].copy()\n",
    "\n",
    "    # Replace infinity values\n",
    "    df_filtrado.loc[df_filtrado[\"relacao3por5\"] == np.inf, \"relacao3por5\"] = 0\n",
    "    df_filtrado.loc[df_filtrado[\"relacao5por3\"] == np.inf, \"relacao5por3\"] = 0\n",
    "\n",
    "    # Plot the overlaid histograms\n",
    "    plt.hist(df_filtrado[\"relacao3por5\"], color=cores[registro], alpha=0.5, label=f\"{registro} (3/5)\")\n",
    "    plt.hist(df_filtrado[\"relacao5por3\"], color=\"black\", alpha=0.5, label=f\"{registro} (5/3)\")\n",
    "    plt.xlabel(\"Relação\")\n",
    "    plt.ylabel(\"Frequência\")\n",
    "    plt.legend()\n",
    "    plt.show()"
   ]
  },
  {
   "cell_type": "markdown",
   "id": "49cceb69",
   "metadata": {},
   "source": [
    "Gráficos de dispersão mostrando a terceira e quinta ordem de harmônicas de corrente para cada uma delas"
   ]
  },
  {
   "cell_type": "code",
   "execution_count": 150,
   "id": "d0febeb0",
   "metadata": {},
   "outputs": [
    {
     "data": {
      "image/png": "[encoded data removed]",
      "text/plain": [
       "<Figure size 432x288 with 1 Axes>"
      ]
     },
     "metadata": {},
     "output_type": "display_data"
    },
    {
     "data": {
      "image/png": "[encoded data removed]",
      "text/plain": [
       "<Figure size 432x288 with 1 Axes>"
      ]
     },
     "metadata": {},
     "output_type": "display_data"
    },
    {
     "data": {
      "image/png": "[encoded data removed]",
      "text/plain": [
       "<Figure size 432x288 with 1 Axes>"
      ]
     },
     "metadata": {},
     "output_type": "display_data"
    }
   ],
   "source": [
    "\n",
    "\n",
    "for registro in df[\"Registro\"].unique():\n",
    "    # Filtre o DataFrame para o valor atual do registro\n",
    "    df_filtrado = df.loc[df[\"Registro\"] == registro]\n",
    "    # Crie o gráfico de dispersão\n",
    "    plt.style.use(\"ggplot\")\n",
    "    plt.scatter(df_filtrado[\"3\"], df_filtrado[\"5\"], c=cores[registro], label=registro)\n",
    "    # Adicione rótulos aos eixos\n",
    "    plt.xlabel(\"Harmônicas ordem 3 (%)\")\n",
    "    plt.ylabel(\"Harmônicas ordem 5 (%)\")\n",
    "    # Adicione legenda\n",
    "    plt.legend()\n",
    "    # Mostre o gráfico\n",
    "    plt.show()"
   ]
  },
  {
   "cell_type": "markdown",
   "id": "84ddaeb2",
   "metadata": {},
   "source": [
    "Histograma de registro de harmônicas com as correntes agrupadas "
   ]
  },
  {
   "cell_type": "code",
   "execution_count": 145,
   "id": "cd3bb486",
   "metadata": {},
   "outputs": [
    {
     "data": {
      "image/png": "[encoded data removed]",
      "text/plain": [
       "<Figure size 432x288 with 1 Axes>"
      ]
     },
     "metadata": {},
     "output_type": "display_data"
    }
   ],
   "source": [
    "# df[\"3\"].plot(kind=\"hist\");\n",
    "# df[\"5\"].plot(kind=\"hist\");\n",
    "# df[\"7\"].plot(kind=\"hist\", color='black');\n",
    "\n",
    "plt.style.use(\"ggplot\")\n",
    "\n",
    "df[\"3\"].plot(kind=\"hist\", color=\"black\", alpha=0.7, label=\"3º ordem\")\n",
    "df[\"5\"].plot(kind=\"hist\", color=\"red\", alpha=0.7, label=\"5º ordem\")\n",
    "df[\"7\"].plot(kind=\"hist\", color=\"blue\", alpha=0.7, label=\"7º ordem\")\n",
    "\n",
    "plt.legend()\n",
    "plt.xlabel(\"Valor\")\n",
    "plt.ylabel(\"Frequência\")\n",
    "plt.show()"
   ]
  },
  {
   "cell_type": "markdown",
   "id": "7f910296",
   "metadata": {},
   "source": [
    "Treinando alguns comandos do pandas"
   ]
  },
  {
   "cell_type": "code",
   "execution_count": 147,
   "id": "1156feca",
   "metadata": {},
   "outputs": [],
   "source": [
    "# df.Registro.nunique()\n",
    "# df.describe(include='all')\n",
    "#df.loc[df[\"3\"].idxmax()]"
   ]
  },
  {
   "cell_type": "code",
   "execution_count": 149,
   "id": "ada44802",
   "metadata": {},
   "outputs": [],
   "source": [
    "# dfA = df.query(\"`Registro` == 'IA' \")\n",
    "# dfA.nlargest(3, '3')\n",
    "#dfA.describe()"
   ]
  },
  {
   "cell_type": "code",
   "execution_count": 148,
   "id": "a88bb1a9",
   "metadata": {},
   "outputs": [],
   "source": [
    "\n",
    "#df[2:5]\n",
    "#df[\"Dado\"]\n",
    "#df.loc[:, [\"Dado\", \"3\"]]\n",
    "#df.iloc[3:10, 0:5]\n",
    "#df.iloc[[1, 2, 3], [0, 5]]"
   ]
  }
 ],
 "metadata": {
  "kernelspec": {
   "display_name": "Python 3",
   "language": "python",
   "name": "python3"
  },
  "language_info": {
   "codemirror_mode": {
    "name": "ipython",
    "version": 3
   },
   "file_extension": ".py",
   "mimetype": "text/x-python",
   "name": "python",
   "nbconvert_exporter": "python",
   "pygments_lexer": "ipython3",
   "version": "3.8.8"
  }
 },
 "nbformat": 4,
 "nbformat_minor": 5
}
