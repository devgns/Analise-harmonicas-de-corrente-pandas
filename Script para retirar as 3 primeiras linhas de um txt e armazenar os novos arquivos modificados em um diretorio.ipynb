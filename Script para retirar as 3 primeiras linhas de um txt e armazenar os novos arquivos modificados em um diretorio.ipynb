{
 "cells": [
  {
   "cell_type": "code",
   "execution_count": 1,
   "id": "9c19141d",
   "metadata": {},
   "outputs": [],
   "source": [
    "import os\n"
   ]
  },
  {
   "cell_type": "code",
   "execution_count": 7,
   "id": "c0d91494",
   "metadata": {},
   "outputs": [],
   "source": [
    "# Diretório de origem dos arquivos .txt\n",
    "diretorio_origem = \"C:\\\\Users\\\\gusta\\\\OneDrive\\\\Documentos\\\\PROJETTA ENG\\\\Patio Brasil\\\\teste2\"\n",
    "\n",
    "# Diretório de destino dos arquivos modificados\n",
    "diretorio_destino = \"C:\\\\Users\\\\gusta\\\\OneDrive\\\\Documentos\\\\PROJETTA ENG\\\\Patio Brasil\\\\medicoes-harmonicas-editados\"\n",
    "\n",
    "# Lista os arquivos .txt no diretório de origem\n",
    "arquivos = os.listdir(diretorio_origem)"
   ]
  },
  {
   "cell_type": "code",
   "execution_count": 8,
   "id": "84333d4d",
   "metadata": {},
   "outputs": [
    {
     "name": "stdout",
     "output_type": "stream",
     "text": [
      "**Processo concluído!**\n"
     ]
    }
   ],
   "source": [
    "for arquivo in arquivos:\n",
    "    # Caminho completo do arquivo\n",
    "    caminho_origem = os.path.join(diretorio_origem, arquivo)\n",
    "    \n",
    "    # Caminho completo do arquivo modificado\n",
    "    caminho_destino = os.path.join(diretorio_destino, arquivo)\n",
    "    \n",
    "    # Verifica se é um arquivo .txt\n",
    "    if arquivo.endswith(\".txt\"):\n",
    "        # Abre o arquivo no modo leitura\n",
    "        with open(caminho_origem, \"r\") as f_origem:\n",
    "            # Lê as duas primeiras linhas\n",
    "            linha1 = f_origem.readline()\n",
    "            linha2 = f_origem.readline()\n",
    "            linha3 = f_origem.readline()\n",
    "\n",
    "            \n",
    "            # Lê o restante do conteúdo\n",
    "            conteudo = f_origem.read()\n",
    "        \n",
    "        # Abre o arquivo no modo escrita\n",
    "        with open(caminho_destino, \"w\") as f_destino:\n",
    "            # Escreve o conteúdo sem as duas primeiras linhas\n",
    "            f_destino.write(conteudo)\n",
    "\n",
    "print(\"**Processo concluído!**\")"
   ]
  },
  {
   "cell_type": "code",
   "execution_count": null,
   "id": "66d12269",
   "metadata": {},
   "outputs": [],
   "source": []
  }
 ],
 "metadata": {
  "kernelspec": {
   "display_name": "Python 3",
   "language": "python",
   "name": "python3"
  },
  "language_info": {
   "codemirror_mode": {
    "name": "ipython",
    "version": 3
   },
   "file_extension": ".py",
   "mimetype": "text/x-python",
   "name": "python",
   "nbconvert_exporter": "python",
   "pygments_lexer": "ipython3",
   "version": "3.8.8"
  }
 },
 "nbformat": 4,
 "nbformat_minor": 5
}
